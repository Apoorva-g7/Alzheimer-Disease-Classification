{
 "cells": [
  {
   "cell_type": "markdown",
   "metadata": {},
   "source": [
    "# Alzheimer's Disease Classification with Deep Learning\n",
    "In this notebook, we demonstrate how to classify Alzheimer's disease stages using PyTorch and transfer learning. We use EfficientNet and VGG16 architectures, and also build a custom CNN. Let's walk through the process!"
   ]
  },
  {
   "cell_type": "markdown",
   "id": "2bd33af3",
   "metadata": {},
   "source": [
    "\n",
    "## How to run this notebook (Local / VS Code)\n",
    "\n",
    "**1. Download dataset manually:**  \n",
    "Download from Kaggle: https://www.kaggle.com/datasets/yasserhessein/dataset-alzheimer and extract it locally.\n",
    "\n",
    "**2. Place dataset:**  \n",
    "Set `DATA_DIR` to the folder where you extracted the dataset (example used in this notebook):  \n",
    "```\n",
    "DATA_DIR = r'C:\\Users\\apoor\\Downloads\\Alzheimer_s Dataset'\n",
    "```\n",
    "\n",
    "**3. Install dependencies:**  \n",
    "```bash\n",
    "pip install -r requirements.txt\n",
    "# or\n",
    "pip install tensorflow matplotlib seaborn scikit-learn pillow\n",
    "```\n",
    "\n",
    "**4. Run all cells in order.**\n",
    "\n",
    "**Notes on reproducibility:** seeds are set in the notebook (numpy, random, tensorflow) to help reproduce results. Exact bitwise reproducibility can still vary across hardware and library versions.\n"
   ]
  },
  {
   "cell_type": "code",
   "execution_count": 1,
   "id": "076d0854",
   "metadata": {},
   "outputs": [],
   "source": [
    "\n",
    "# Ensuring reproducibility\n",
    "import numpy as np\n",
    "import random\n",
    "import tensorflow as tf\n",
    "\n",
    "seed_value = 42\n",
    "np.random.seed(seed_value)\n",
    "random.seed(seed_value)\n",
    "tf.random.set_seed(seed_value)\n"
   ]
  },
  {
   "cell_type": "markdown",
   "metadata": {},
   "source": [
    "## 1. Install Required Libraries\n",
    "We start by installing the necessary packages for our deep learning workflow."
   ]
  },
  {
   "cell_type": "code",
   "execution_count": 2,
   "metadata": {
    "_cell_guid": "b1076dfc-b9ad-4769-8c92-a6c4dae69d19",
    "_uuid": "8f2839f25d086af736a60e9eeb907d3b93b6e0e5",
    "execution": {
     "iopub.execute_input": "2025-06-05T11:51:17.694570Z",
     "iopub.status.busy": "2025-06-05T11:51:17.694216Z",
     "iopub.status.idle": "2025-06-05T11:52:33.451158Z",
     "shell.execute_reply": "2025-06-05T11:52:33.450393Z",
     "shell.execute_reply.started": "2025-06-05T11:51:17.694543Z"
    }
   },
   "outputs": [
    {
     "name": "stdout",
     "output_type": "stream",
     "text": [
      "Defaulting to user installation because normal site-packages is not writeableNote: you may need to restart the kernel to use updated packages.\n",
      "\n",
      "Requirement already satisfied: efficientnet_pytorch in c:\\users\\apoor\\appdata\\roaming\\python\\python312\\site-packages (0.7.1)\n",
      "Requirement already satisfied: torch in c:\\users\\apoor\\appdata\\roaming\\python\\python312\\site-packages (from efficientnet_pytorch) (2.8.0)\n",
      "Requirement already satisfied: filelock in c:\\programdata\\anaconda3\\lib\\site-packages (from torch->efficientnet_pytorch) (3.13.1)\n",
      "Requirement already satisfied: typing-extensions>=4.10.0 in c:\\programdata\\anaconda3\\lib\\site-packages (from torch->efficientnet_pytorch) (4.11.0)\n",
      "Requirement already satisfied: sympy>=1.13.3 in c:\\users\\apoor\\appdata\\roaming\\python\\python312\\site-packages (from torch->efficientnet_pytorch) (1.14.0)\n",
      "Requirement already satisfied: networkx in c:\\programdata\\anaconda3\\lib\\site-packages (from torch->efficientnet_pytorch) (3.3)\n",
      "Requirement already satisfied: jinja2 in c:\\programdata\\anaconda3\\lib\\site-packages (from torch->efficientnet_pytorch) (3.1.4)\n",
      "Requirement already satisfied: fsspec in c:\\programdata\\anaconda3\\lib\\site-packages (from torch->efficientnet_pytorch) (2024.6.1)\n",
      "Requirement already satisfied: setuptools in c:\\programdata\\anaconda3\\lib\\site-packages (from torch->efficientnet_pytorch) (75.1.0)\n",
      "Requirement already satisfied: mpmath<1.4,>=1.1.0 in c:\\programdata\\anaconda3\\lib\\site-packages (from sympy>=1.13.3->torch->efficientnet_pytorch) (1.3.0)\n",
      "Requirement already satisfied: MarkupSafe>=2.0 in c:\\programdata\\anaconda3\\lib\\site-packages (from jinja2->torch->efficientnet_pytorch) (2.1.3)\n"
     ]
    }
   ],
   "source": [
    "pip install efficientnet_pytorch"
   ]
  },
  {
   "cell_type": "markdown",
   "metadata": {},
   "source": [
    "## 2. Import Libraries\n",
    "Let's import all the required libraries for data processing, model building, and visualization."
   ]
  },
  {
   "cell_type": "code",
   "execution_count": 3,
   "metadata": {
    "execution": {
     "iopub.execute_input": "2025-06-05T11:52:33.452344Z",
     "iopub.status.busy": "2025-06-05T11:52:33.452037Z",
     "iopub.status.idle": "2025-06-05T11:52:40.240823Z",
     "shell.execute_reply": "2025-06-05T11:52:40.240141Z",
     "shell.execute_reply.started": "2025-06-05T11:52:33.452311Z"
    }
   },
   "outputs": [],
   "source": [
    "from torchvision.models import vgg16"
   ]
  },
  {
   "cell_type": "code",
   "execution_count": 4,
   "metadata": {
    "execution": {
     "iopub.execute_input": "2025-06-05T11:52:40.242604Z",
     "iopub.status.busy": "2025-06-05T11:52:40.242284Z",
     "iopub.status.idle": "2025-06-05T11:52:40.306081Z",
     "shell.execute_reply": "2025-06-05T11:52:40.305338Z",
     "shell.execute_reply.started": "2025-06-05T11:52:40.242586Z"
    }
   },
   "outputs": [],
   "source": [
    "import os\n",
    "import shutil\n",
    "import random\n",
    "import numpy as np\n",
    "import torch\n",
    "import torchvision.transforms as transforms\n",
    "import torch.nn as nn\n",
    "import torch.optim as optim\n",
    "from torch.utils.data import DataLoader, random_split\n",
    "from torchvision.datasets import ImageFolder\n",
    "from efficientnet_pytorch import EfficientNet\n",
    "from torchvision.utils import make_grid\n",
    "import matplotlib.pyplot as plt\n",
    "from PIL import Image\n",
    "\n",
    "device = torch.device('cuda' if torch.cuda.is_available() else 'cpu')"
   ]
  },
  {
   "cell_type": "markdown",
   "metadata": {},
   "source": [
    "## Set Dataset Path\n",
    "Change this variable to your dataset location."
   ]
  },
  {
   "cell_type": "code",
   "execution_count": 5,
   "metadata": {},
   "outputs": [],
   "source": [
    "DATASET_PATH = r'C:\\Users\\apoor\\Downloads\\Alzheimer_s Dataset'"
   ]
  },
  {
   "cell_type": "code",
   "execution_count": 6,
   "metadata": {
    "execution": {
     "iopub.execute_input": "2025-06-05T11:52:40.307332Z",
     "iopub.status.busy": "2025-06-05T11:52:40.307116Z",
     "iopub.status.idle": "2025-06-05T11:52:40.312536Z",
     "shell.execute_reply": "2025-06-05T11:52:40.311851Z",
     "shell.execute_reply.started": "2025-06-05T11:52:40.307310Z"
    }
   },
   "outputs": [
    {
     "data": {
      "text/plain": [
       "device(type='cpu')"
      ]
     },
     "execution_count": 6,
     "metadata": {},
     "output_type": "execute_result"
    }
   ],
   "source": [
    "device"
   ]
  },
  {
   "cell_type": "code",
   "execution_count": 7,
   "metadata": {
    "execution": {
     "iopub.execute_input": "2025-06-05T11:52:40.313474Z",
     "iopub.status.busy": "2025-06-05T11:52:40.313214Z",
     "iopub.status.idle": "2025-06-05T11:52:40.327848Z",
     "shell.execute_reply": "2025-06-05T11:52:40.327207Z",
     "shell.execute_reply.started": "2025-06-05T11:52:40.313457Z"
    }
   },
   "outputs": [],
   "source": [
    "os.makedirs('/kaggle/working/train1/', exist_ok = True)\n",
    "os.makedirs('/kaggle/working/test1/', exist_ok = True)"
   ]
  },
  {
   "cell_type": "markdown",
   "metadata": {},
   "source": [
    "## 5. Data Augmentation & Transforms\n",
    "Define image transformations for training and validation sets to improve model generalization."
   ]
  },
  {
   "cell_type": "code",
   "execution_count": 8,
   "metadata": {
    "execution": {
     "iopub.execute_input": "2025-06-05T11:52:40.361693Z",
     "iopub.status.busy": "2025-06-05T11:52:40.361444Z",
     "iopub.status.idle": "2025-06-05T11:52:40.385560Z",
     "shell.execute_reply": "2025-06-05T11:52:40.384962Z",
     "shell.execute_reply.started": "2025-06-05T11:52:40.361675Z"
    }
   },
   "outputs": [],
   "source": [
    "transform = { \"train\": transforms.Compose([\n",
    "    transforms.Resize((224, 224)),\n",
    "    transforms.RandomHorizontalFlip(),\n",
    "    transforms.RandomRotation(15),\n",
    "    transforms.ToTensor(),\n",
    "]),\n",
    "            'val': transforms.Compose([\n",
    "        transforms.Resize((224,224)),\n",
    "        transforms.ToTensor(),\n",
    "    ])}"
   ]
  },
  {
   "cell_type": "markdown",
   "metadata": {},
   "source": [
    "## 6. Custom Dataset Class\n",
    "We create a custom PyTorch Dataset for Alzheimer's images, including pixel normalization."
   ]
  },
  {
   "cell_type": "code",
   "execution_count": 9,
   "metadata": {
    "execution": {
     "iopub.execute_input": "2025-06-05T11:52:40.388259Z",
     "iopub.status.busy": "2025-06-05T11:52:40.388057Z",
     "iopub.status.idle": "2025-06-05T11:52:40.401465Z",
     "shell.execute_reply": "2025-06-05T11:52:40.400774Z",
     "shell.execute_reply.started": "2025-06-05T11:52:40.388245Z"
    }
   },
   "outputs": [],
   "source": [
    "from torch.utils.data import Dataset\n",
    "from PIL import Image\n",
    "import os\n",
    "\n",
    "# Custom dataloader - Pixel Normalisation\n",
    "class Alzheimer(Dataset):\n",
    "    def __init__(self, image_paths, labels, transform=None):\n",
    "        self.image_paths = image_paths\n",
    "        self.labels = labels\n",
    "        self.transform = transform\n",
    "    def __len__(self):\n",
    "        return len(self.image_paths)\n",
    "    def __getitem__(self,idx):\n",
    "        img = Image.open(self.image_paths[idx]).convert(\"RGB\")\n",
    "        if self.transform:\n",
    "            img = self.transform(img)\n",
    "        img = img/img.max()\n",
    "        return img, self.labels[idx]"
   ]
  },
  {
   "cell_type": "markdown",
   "metadata": {},
   "source": [
    "## 7. Prepare Data Splits\n",
    "Split the dataset into training, validation, and test sets using stratified sampling."
   ]
  },
  {
   "cell_type": "code",
   "execution_count": 10,
   "metadata": {
    "execution": {
     "iopub.execute_input": "2025-06-05T11:52:40.402399Z",
     "iopub.status.busy": "2025-06-05T11:52:40.402176Z",
     "iopub.status.idle": "2025-06-05T11:52:41.200848Z",
     "shell.execute_reply": "2025-06-05T11:52:41.200262Z",
     "shell.execute_reply.started": "2025-06-05T11:52:40.402379Z"
    }
   },
   "outputs": [
    {
     "name": "stdout",
     "output_type": "stream",
     "text": [
      "Class distribution in training data (before split):\n",
      "MildDemented: 717 images\n",
      "ModerateDemented: 52 images\n",
      "NonDemented: 2560 images\n",
      "VeryMildDemented: 1792 images\n"
     ]
    },
    {
     "data": {
      "image/png": "[encoded data removed]",
      "text/plain": [
       "<Figure size 800x500 with 1 Axes>"
      ]
     },
     "metadata": {},
     "output_type": "display_data"
    },
    {
     "name": "stdout",
     "output_type": "stream",
     "text": [
      "\n",
      "Class distribution in TRAIN set after stratified split:\n",
      "MildDemented: 538 images\n",
      "ModerateDemented: 39 images\n",
      "NonDemented: 1919 images\n",
      "VeryMildDemented: 1344 images\n"
     ]
    },
    {
     "data": {
      "image/png": "[encoded data removed]",
      "text/plain": [
       "<Figure size 800x500 with 1 Axes>"
      ]
     },
     "metadata": {},
     "output_type": "display_data"
    }
   ],
   "source": [
    "from sklearn.model_selection import train_test_split\n",
    "from glob import glob \n",
    "\n",
    "# TRAIN\n",
    "mild_demented_train = sorted(glob(f'{DATASET_PATH}/train/MildDemented/*.jpg'))\n",
    "moderate_demented_train = sorted(glob(f'{DATASET_PATH}/train/ModerateDemented/*.jpg'))\n",
    "non_demented_train = sorted(glob(f'{DATASET_PATH}/train/NonDemented/*.jpg'))\n",
    "very_mild_demented_train = sorted(glob(f'{DATASET_PATH}/train/VeryMildDemented/*.jpg'))\n",
    "\n",
    "mild_demented_labels = [0]*len(mild_demented_train)\n",
    "moderate_demented_labels = [1]*len(moderate_demented_train)\n",
    "non_demented_labels = [2]*len(non_demented_train)\n",
    "very_mild_demented_labels = [3]*len(very_mild_demented_train)\n",
    "\n",
    "files_train = 0\n",
    "files_train = mild_demented_train + moderate_demented_train + non_demented_train + very_mild_demented_train\n",
    "labels_train = mild_demented_labels + moderate_demented_labels + non_demented_labels + very_mild_demented_labels\n",
    "\n",
    "from collections import Counter\n",
    "import matplotlib.pyplot as plt\n",
    "\n",
    "# --- Check class distribution BEFORE splitting ---\n",
    "class_labels = [\n",
    "    \"MildDemented\",\n",
    "    \"ModerateDemented\",\n",
    "    \"NonDemented\",\n",
    "    \"VeryMildDemented\"\n",
    "]\n",
    "class_counts_before = Counter(labels_train)\n",
    "\n",
    "print(\"Class distribution in training data (before split):\")\n",
    "for idx, label in enumerate(class_labels):\n",
    "    print(f\"{label}: {class_counts_before[idx]} images\")\n",
    "\n",
    "# Plot\n",
    "plt.figure(figsize=(8, 5))\n",
    "plt.bar(class_labels, [class_counts_before[i] for i in range(len(class_labels))], color='skyblue')\n",
    "plt.xlabel('Class')\n",
    "plt.ylabel('Number of Images')\n",
    "plt.title('Class Distribution - Original Kaggle Train Folder')\n",
    "plt.xticks(rotation=45)\n",
    "plt.show()\n",
    "\n",
    "\n",
    "X_train , X_val, y_train , y_val = train_test_split(files_train, labels_train, stratify = labels_train, random_state = 42)\n",
    "\n",
    "# --- AFTER SPLIT (TRAIN SET ONLY) ---\n",
    "class_counts_after = Counter(y_train)\n",
    "\n",
    "print(\"\\nClass distribution in TRAIN set after stratified split:\")\n",
    "for idx, label in enumerate(class_labels):\n",
    "    print(f\"{label}: {class_counts_after[idx]} images\")\n",
    "\n",
    "plt.figure(figsize=(8, 5))\n",
    "plt.bar(class_labels, [class_counts_after[i] for i in range(len(class_labels))], color='lightgreen')\n",
    "plt.xlabel('Class')\n",
    "plt.ylabel('Number of Images')\n",
    "plt.title('Class Distribution - After Train/Val Split')\n",
    "plt.xticks(rotation=45)\n",
    "plt.show()\n",
    "\n",
    "# TEST\n",
    "mild_demented_test = sorted(glob(f'{DATASET_PATH}/test/MildDemented/*.jpg'))\n",
    "moderate_demented_test = sorted(glob(f'{DATASET_PATH}/test/ModerateDemented/*.jpg'))\n",
    "non_demented_test = sorted(glob(f'{DATASET_PATH}/test/NonDemented/*.jpg'))\n",
    "very_mild_demented_test = sorted(glob(f'{DATASET_PATH}/test/VeryMildDemented/*.jpg'))\n",
    "\n",
    "mild_demented_labels_test = [0]*len(mild_demented_test)\n",
    "moderate_demented_labels_test = [1]*len(moderate_demented_test)\n",
    "non_demented_labels_test = [2]*len(non_demented_test)\n",
    "very_mild_demented_labels_test = [3]*len(very_mild_demented_test)\n",
    "\n",
    "\n",
    "\n",
    "X_test = mild_demented_test + moderate_demented_test + non_demented_test + very_mild_demented_test\n",
    "y_test = mild_demented_labels_test + moderate_demented_labels_test + non_demented_labels_test + very_mild_demented_labels_test"
   ]
  },
  {
   "cell_type": "markdown",
   "metadata": {},
   "source": [
    "Above is the visual difference:\n",
    "\n",
    "Before split → shows the original training folder counts (imbalanced).\n",
    "\n",
    "After split → shows the slightly smaller counts in your training subset (still imbalanced because stratified split preserves ratios).\n",
    "\n",
    "The split is not meant to balance the classes — it’s just to reserve some data for validation. Balancing happens later with class weights."
   ]
  },
  {
   "cell_type": "markdown",
   "metadata": {},
   "source": [
    "## 8. DataLoader Setup\n",
    "Create PyTorch DataLoaders for efficient batch processing."
   ]
  },
  {
   "cell_type": "code",
   "execution_count": 11,
   "metadata": {
    "execution": {
     "iopub.execute_input": "2025-06-05T11:52:41.207580Z",
     "iopub.status.busy": "2025-06-05T11:52:41.207333Z",
     "iopub.status.idle": "2025-06-05T11:52:41.220322Z",
     "shell.execute_reply": "2025-06-05T11:52:41.219853Z",
     "shell.execute_reply.started": "2025-06-05T11:52:41.207564Z"
    }
   },
   "outputs": [],
   "source": [
    "# LOADER\n",
    "\n",
    "train_dataset = Alzheimer(X_train, y_train, transform = transform['train'])\n",
    "val_dataset = Alzheimer(X_val, y_val, transform = transform['val'])\n",
    "test_dataset = Alzheimer(X_test, y_test, transform = transform['val'])"
   ]
  },
  {
   "cell_type": "code",
   "execution_count": 12,
   "metadata": {
    "execution": {
     "iopub.execute_input": "2025-06-05T11:52:41.221185Z",
     "iopub.status.busy": "2025-06-05T11:52:41.220982Z",
     "iopub.status.idle": "2025-06-05T11:52:41.235833Z",
     "shell.execute_reply": "2025-06-05T11:52:41.235248Z",
     "shell.execute_reply.started": "2025-06-05T11:52:41.221133Z"
    }
   },
   "outputs": [],
   "source": [
    "# Data Loader\n",
    "\n",
    "train_loader = DataLoader(train_dataset, batch_size=32, shuffle=True)\n",
    "val_loader = DataLoader(val_dataset, batch_size=32, shuffle=False)\n",
    "test_loader = DataLoader(test_dataset, batch_size=32, shuffle=False)"
   ]
  },
  {
   "cell_type": "markdown",
   "metadata": {},
   "source": [
    "## 9. Visualize Augmented Batches\n",
    "Let's visualize a batch of augmented images to verify our transformations."
   ]
  },
  {
   "cell_type": "code",
   "execution_count": 13,
   "metadata": {
    "execution": {
     "iopub.execute_input": "2025-06-05T11:52:41.236620Z",
     "iopub.status.busy": "2025-06-05T11:52:41.236396Z"
    }
   },
   "outputs": [
    {
     "data": {
      "image/png": "[encoded data removed]",
      "text/plain": [
       "<Figure size 640x480 with 1 Axes>"
      ]
     },
     "metadata": {},
     "output_type": "display_data"
    }
   ],
   "source": [
    "def show_batch(loader):\n",
    "    imgs, lbls = next(iter(loader))\n",
    "    img_grid = make_grid(imgs[:8], nrow=4)\n",
    "    npimg = img_grid.numpy().transpose((1, 2, 0))\n",
    "    plt.imshow((npimg * 0.5 + 0.5))  # de-normalize\n",
    "    plt.title(\"Augmented Image Batch\")\n",
    "    plt.axis('off')\n",
    "    plt.show()\n",
    "\n",
    "show_batch(train_loader)"
   ]
  },
  {
   "cell_type": "markdown",
   "metadata": {},
   "source": [
    "## 10. Custom CNN Architecture\n",
    "Define a custom convolutional neural network for Alzheimer's classification."
   ]
  },
  {
   "cell_type": "code",
   "execution_count": 14,
   "metadata": {
    "execution": {
     "iopub.execute_input": "2025-06-05T11:52:41.814312Z",
     "iopub.status.busy": "2025-06-05T11:52:41.814047Z",
     "iopub.status.idle": "2025-06-05T11:52:41.932595Z"
    }
   },
   "outputs": [],
   "source": [
    "class customCNN(nn.Module) :\n",
    "    def __init__(self) :\n",
    "        super().__init__()\n",
    "        self.conv = nn.Sequential(\n",
    "            nn.Conv2d(3,32,3, padding =1),\n",
    "            nn.ReLU(),\n",
    "            nn.MaxPool2d(2),\n",
    "\n",
    "            nn.Conv2d(32,64,3, padding =1),\n",
    "            nn.ReLU(),\n",
    "            nn.MaxPool2d(2),\n",
    "\n",
    "            nn.Conv2d(64,128,3, padding =1),\n",
    "            nn.ReLU(),\n",
    "            nn.MaxPool2d(2),\n",
    "\n",
    "            nn.Conv2d(128,256,3, padding =1),\n",
    "            nn.ReLU(),\n",
    "            nn.MaxPool2d(2),\n",
    "        )\n",
    "        self.fc = nn.Sequential(\n",
    "            nn.Flatten(),\n",
    "            nn.Linear(256*14*14,256),\n",
    "            nn.ReLU(),\n",
    "            nn.Linear(256,128),\n",
    "            nn.ReLU(),\n",
    "            nn.Linear(128,4)\n",
    "        )\n",
    "\n",
    "    def forward(self, x) :\n",
    "        x = self.conv(x)\n",
    "        return self.fc(x)\n",
    "\n",
    "cnn = customCNN()"
   ]
  },
  {
   "cell_type": "markdown",
   "metadata": {},
   "source": [
    "## 11. Model Parameter Count\n",
    "Check the number of trainable parameters in our custom CNN."
   ]
  },
  {
   "cell_type": "code",
   "execution_count": 15,
   "metadata": {
    "execution": {
     "iopub.execute_input": "2025-06-05T11:52:41.933584Z",
     "iopub.status.busy": "2025-06-05T11:52:41.933364Z",
     "iopub.status.idle": "2025-06-05T11:52:44.840747Z",
     "shell.execute_reply": "2025-06-05T11:52:44.839975Z",
     "shell.execute_reply.started": "2025-06-05T11:52:41.933567Z"
    }
   },
   "outputs": [
    {
     "name": "stdout",
     "output_type": "stream",
     "text": [
      "Defaulting to user installation because normal site-packages is not writeable\n",
      "Requirement already satisfied: prettytable in c:\\users\\apoor\\appdata\\roaming\\python\\python312\\site-packages (3.16.0)\n",
      "Requirement already satisfied: wcwidth in c:\\programdata\\anaconda3\\lib\\site-packages (from prettytable) (0.2.5)\n"
     ]
    }
   ],
   "source": [
    "!pip install prettytable\n"
   ]
  },
  {
   "cell_type": "code",
   "execution_count": 16,
   "metadata": {
    "execution": {
     "iopub.execute_input": "2025-06-05T11:52:44.842125Z",
     "iopub.status.busy": "2025-06-05T11:52:44.841875Z",
     "iopub.status.idle": "2025-06-05T11:52:44.878465Z",
     "shell.execute_reply": "2025-06-05T11:52:44.877958Z",
     "shell.execute_reply.started": "2025-06-05T11:52:44.842101Z"
    }
   },
   "outputs": [
    {
     "name": "stdout",
     "output_type": "stream",
     "text": [
      "+---------------+------------+\n",
      "|    Modules    | Parameters |\n",
      "+---------------+------------+\n",
      "| conv.0.weight |    864     |\n",
      "|  conv.0.bias  |     32     |\n",
      "| conv.3.weight |   18432    |\n",
      "|  conv.3.bias  |     64     |\n",
      "| conv.6.weight |   73728    |\n",
      "|  conv.6.bias  |    128     |\n",
      "| conv.9.weight |   294912   |\n",
      "|  conv.9.bias  |    256     |\n",
      "|  fc.1.weight  |  12845056  |\n",
      "|   fc.1.bias   |    256     |\n",
      "|  fc.3.weight  |   32768    |\n",
      "|   fc.3.bias   |    128     |\n",
      "|  fc.5.weight  |    512     |\n",
      "|   fc.5.bias   |     4      |\n",
      "+---------------+------------+\n",
      "Total Trainable Params: 13267140\n"
     ]
    },
    {
     "data": {
      "text/plain": [
       "13267140"
      ]
     },
     "execution_count": 16,
     "metadata": {},
     "output_type": "execute_result"
    }
   ],
   "source": [
    "from prettytable import PrettyTable\n",
    "\n",
    "def count_parameters(model):\n",
    "    table = PrettyTable([\"Modules\", \"Parameters\"])\n",
    "    total_params = 0\n",
    "    for name, parameter in model.named_parameters():\n",
    "        if not parameter.requires_grad:\n",
    "            continue\n",
    "        params = parameter.numel()\n",
    "        table.add_row([name, params])\n",
    "        total_params += params\n",
    "    print(table)\n",
    "    print(f\"Total Trainable Params: {total_params}\")\n",
    "    return total_params\n",
    "    \n",
    "count_parameters(cnn)"
   ]
  },
  {
   "cell_type": "markdown",
   "metadata": {},
   "source": [
    "## 12. EfficientNet B5 Model\n",
    "Set up EfficientNet B5 with custom fully connected layers for transfer learning."
   ]
  },
  {
   "cell_type": "code",
   "execution_count": 17,
   "metadata": {
    "execution": {
     "iopub.execute_input": "2025-06-05T11:52:44.879339Z",
     "iopub.status.busy": "2025-06-05T11:52:44.879143Z",
     "iopub.status.idle": "2025-06-05T11:52:44.883570Z",
     "shell.execute_reply": "2025-06-05T11:52:44.882946Z",
     "shell.execute_reply.started": "2025-06-05T11:52:44.879324Z"
    }
   },
   "outputs": [],
   "source": [
    "def get_efficientnet() :\n",
    "    model = EfficientNet.from_pretrained('efficientnet-b5')\n",
    "    in_features = model._fc.in_features\n",
    "    model._fc = nn.Sequential(\n",
    "        nn.Linear(in_features, 512),  # 1st FC layer\n",
    "        nn.ReLU(),\n",
    "        nn.Linear(512, 128),          # 2nd FC layer\n",
    "        nn.ReLU(),\n",
    "        nn.Linear(128, 4)             # Output\n",
    "    )\n",
    "    return model "
   ]
  },
  {
   "cell_type": "code",
   "execution_count": 18,
   "metadata": {
    "execution": {
     "iopub.execute_input": "2025-06-05T11:52:44.884307Z",
     "iopub.status.busy": "2025-06-05T11:52:44.884120Z",
     "iopub.status.idle": "2025-06-05T11:52:56.612006Z",
     "shell.execute_reply": "2025-06-05T11:52:56.611303Z",
     "shell.execute_reply.started": "2025-06-05T11:52:44.884284Z"
    }
   },
   "outputs": [
    {
     "name": "stdout",
     "output_type": "stream",
     "text": [
      "Loaded pretrained weights for efficientnet-b5\n"
     ]
    }
   ],
   "source": [
    "model = get_efficientnet()\n",
    "\n",
    "for param in model.parameters():\n",
    "        param.requires_grad = False\n",
    "for param in model._fc.parameters():\n",
    "    param.requires_grad = True"
   ]
  },
  {
   "cell_type": "markdown",
   "metadata": {},
   "source": [
    "## 13. VGG16 Model\n",
    "Set up VGG16 architecture with custom classifier layers for transfer learning."
   ]
  },
  {
   "cell_type": "code",
   "execution_count": 19,
   "metadata": {
    "execution": {
     "iopub.execute_input": "2025-06-05T11:52:56.612968Z",
     "iopub.status.busy": "2025-06-05T11:52:56.612747Z",
     "iopub.status.idle": "2025-06-05T11:52:56.617664Z",
     "shell.execute_reply": "2025-06-05T11:52:56.616991Z",
     "shell.execute_reply.started": "2025-06-05T11:52:56.612953Z"
    }
   },
   "outputs": [],
   "source": [
    "def get_vgg16(input_size=(224, 224), num_classes=4):\n",
    "    model = vgg16(pretrained=True)\n",
    "    \n",
    "    model.classifier = nn.Sequential(\n",
    "        nn.Linear(25088, 1024),\n",
    "        nn.ReLU(),\n",
    "        \n",
    "        nn.Linear(1024, 512),\n",
    "        nn.ReLU(),\n",
    "        \n",
    "        nn.Linear(512, 256),\n",
    "        nn.ReLU(),\n",
    "        \n",
    "        nn.Linear(256, 4)\n",
    "    )\n",
    "    \n",
    "    return model"
   ]
  },
  {
   "cell_type": "code",
   "execution_count": 20,
   "metadata": {
    "execution": {
     "iopub.execute_input": "2025-06-05T11:52:56.618685Z",
     "iopub.status.busy": "2025-06-05T11:52:56.618470Z",
     "iopub.status.idle": "2025-06-05T11:53:01.710452Z",
     "shell.execute_reply": "2025-06-05T11:53:01.709896Z",
     "shell.execute_reply.started": "2025-06-05T11:52:56.618671Z"
    }
   },
   "outputs": [
    {
     "name": "stderr",
     "output_type": "stream",
     "text": [
      "C:\\Users\\apoor\\AppData\\Roaming\\Python\\Python312\\site-packages\\torchvision\\models\\_utils.py:208: UserWarning: The parameter 'pretrained' is deprecated since 0.13 and may be removed in the future, please use 'weights' instead.\n",
      "  warnings.warn(\n",
      "C:\\Users\\apoor\\AppData\\Roaming\\Python\\Python312\\site-packages\\torchvision\\models\\_utils.py:223: UserWarning: Arguments other than a weight enum or `None` for 'weights' are deprecated since 0.13 and may be removed in the future. The current behavior is equivalent to passing `weights=VGG16_Weights.IMAGENET1K_V1`. You can also use `weights=VGG16_Weights.DEFAULT` to get the most up-to-date weights.\n",
      "  warnings.warn(msg)\n"
     ]
    }
   ],
   "source": [
    "model = get_vgg16()\n",
    "\n",
    "for param in model.parameters():\n",
    "        param.requires_grad = True\n"
   ]
  },
  {
   "cell_type": "markdown",
   "metadata": {},
   "source": [
    "## 15. Training Function\n",
    "Define the training loop with early stopping and learning rate scheduling."
   ]
  },
  {
   "cell_type": "code",
   "execution_count": 33,
   "metadata": {
    "execution": {
     "iopub.execute_input": "2025-06-05T12:09:27.802530Z",
     "iopub.status.busy": "2025-06-05T12:09:27.801760Z",
     "iopub.status.idle": "2025-06-05T12:09:27.812646Z",
     "shell.execute_reply": "2025-06-05T12:09:27.811915Z",
     "shell.execute_reply.started": "2025-06-05T12:09:27.802504Z"
    }
   },
   "outputs": [],
   "source": [
    "def train_model(model, name, class_weights):\n",
    "    model = model.to(device)\n",
    "    weights_tensor = torch.tensor(class_weights, dtype=torch.float).to(device)\n",
    "    criterion = nn.CrossEntropyLoss(weight=weights_tensor)\n",
    "    optimizer = optim.Adam(model.parameters(), lr=0.0005)\n",
    "    scheduler = optim.lr_scheduler.StepLR(optimizer, step_size=5, gamma=0.5)\n",
    "    best_loss = float('inf')\n",
    "    early_stop_counter = 0\n",
    "\n",
    "    train_losses, val_losses = [], []\n",
    "    train_accuracies, val_accuracies = [], []\n",
    "\n",
    "    for epoch in range(15):\n",
    "        model.train()\n",
    "        running_loss = 0.0\n",
    "        correct = 0\n",
    "        total = 0\n",
    "\n",
    "        for images, labels in train_loader:\n",
    "            images, labels = images.to(device), labels.to(device)\n",
    "            optimizer.zero_grad()\n",
    "            outputs = model(images)\n",
    "            loss = criterion(outputs, labels)\n",
    "            loss.backward()\n",
    "            optimizer.step()\n",
    "            running_loss += loss.item()\n",
    "\n",
    "            # Accuracy\n",
    "            _, predicted = torch.max(outputs, 1)\n",
    "            total += labels.size(0)\n",
    "            correct += (predicted == labels).sum().item()\n",
    "\n",
    "        train_loss = running_loss / len(train_loader)\n",
    "        train_acc = correct / total\n",
    "        train_losses.append(train_loss)\n",
    "        train_accuracies.append(train_acc)\n",
    "\n",
    "        model.eval()\n",
    "        val_loss = 0.0\n",
    "        correct = 0\n",
    "        total = 0\n",
    "\n",
    "        with torch.no_grad():\n",
    "            for images, labels in val_loader:\n",
    "                images, labels = images.to(device), labels.to(device)\n",
    "                outputs = model(images)\n",
    "                loss = criterion(outputs, labels)\n",
    "                val_loss += loss.item()\n",
    "\n",
    "                # Accuracy\n",
    "                _, predicted = torch.max(outputs, 1)\n",
    "                total += labels.size(0)\n",
    "                correct += (predicted == labels).sum().item()\n",
    "\n",
    "        val_loss /= len(val_loader)\n",
    "        val_acc = correct / total\n",
    "        val_losses.append(val_loss)\n",
    "        val_accuracies.append(val_acc)\n",
    "\n",
    "        scheduler.step()\n",
    "\n",
    "        print(f\"[{name}] Epoch {epoch+1} | \"\n",
    "              f\"Train Loss: {train_loss:.4f}, Train Acc: {train_acc:.4f} | \"\n",
    "              f\"Val Loss: {val_loss:.4f}, Val Acc: {val_acc:.4f}\")\n",
    "\n",
    "        if val_loss < best_loss:\n",
    "            best_loss = val_loss\n",
    "            torch.save(model.state_dict(), f\"{name}_best.pth\")\n",
    "            early_stop_counter = 0\n",
    "        else:\n",
    "            early_stop_counter += 1\n",
    "            if early_stop_counter >= 4:\n",
    "                print(f\"Early stopping at epoch {epoch+1}\")\n",
    "                break\n",
    "\n",
    "    return train_losses, val_losses, train_accuracies, val_accuracies\n"
   ]
  },
  {
   "cell_type": "markdown",
   "metadata": {},
   "source": [
    "## 16. Train All Models\n",
    "Train Custom CNN, VGG16, and EfficientNet B5 models and store their training history."
   ]
  },
  {
   "cell_type": "code",
   "execution_count": null,
   "metadata": {
    "execution": {
     "iopub.execute_input": "2025-06-05T12:09:44.288222Z",
     "iopub.status.busy": "2025-06-05T12:09:44.287740Z",
     "iopub.status.idle": "2025-06-05T12:43:11.412008Z",
     "shell.execute_reply": "2025-06-05T12:43:11.411296Z",
     "shell.execute_reply.started": "2025-06-05T12:09:44.288200Z"
    }
   },
   "outputs": [
    {
     "name": "stdout",
     "output_type": "stream",
     "text": [
      "Loaded pretrained weights for efficientnet-b5\n",
      "\n",
      "Training CustomCNN\n",
      "[CustomCNN] Epoch 1 | Train Loss: 1.3674, Train Acc: 0.3724 | Val Loss: 1.4833, Val Acc: 0.1397\n",
      "[CustomCNN] Epoch 2 | Train Loss: 1.3706, Train Acc: 0.4268 | Val Loss: 1.3607, Val Acc: 0.1397\n",
      "[CustomCNN] Epoch 3 | Train Loss: 1.3689, Train Acc: 0.3833 | Val Loss: 1.3669, Val Acc: 0.3497\n",
      "[CustomCNN] Epoch 4 | Train Loss: 1.3590, Train Acc: 0.4609 | Val Loss: 1.3602, Val Acc: 0.5394\n",
      "[CustomCNN] Epoch 5 | Train Loss: 1.3575, Train Acc: 0.4279 | Val Loss: 1.3647, Val Acc: 0.3497\n",
      "[CustomCNN] Epoch 6 | Train Loss: 1.3632, Train Acc: 0.3891 | Val Loss: 1.3599, Val Acc: 0.5004\n",
      "[CustomCNN] Epoch 7 | Train Loss: 1.3611, Train Acc: 0.4768 | Val Loss: 1.3610, Val Acc: 0.3497\n",
      "[CustomCNN] Epoch 8 | Train Loss: 1.3612, Train Acc: 0.3674 | Val Loss: 1.3600, Val Acc: 0.5004\n",
      "[CustomCNN] Epoch 9 | Train Loss: 1.3620, Train Acc: 0.4997 | Val Loss: 1.3606, Val Acc: 0.5004\n",
      "[CustomCNN] Epoch 10 | Train Loss: 1.3617, Train Acc: 0.4997 | Val Loss: 1.3602, Val Acc: 0.5004\n",
      "Early stopping at epoch 10\n",
      "\n",
      "Training VGG16\n",
      "[VGG16] Epoch 1 | Train Loss: 1.4304, Train Acc: 0.4323 | Val Loss: 1.3681, Val Acc: 0.3497\n",
      "[VGG16] Epoch 2 | Train Loss: 1.3694, Train Acc: 0.3901 | Val Loss: 1.3637, Val Acc: 0.5004\n",
      "[VGG16] Epoch 3 | Train Loss: 1.3606, Train Acc: 0.4221 | Val Loss: 1.3609, Val Acc: 0.3497\n",
      "[VGG16] Epoch 4 | Train Loss: 1.3583, Train Acc: 0.3013 | Val Loss: 1.3612, Val Acc: 0.5004\n",
      "[VGG16] Epoch 5 | Train Loss: 1.3621, Train Acc: 0.4992 | Val Loss: 1.3612, Val Acc: 0.3497\n",
      "[VGG16] Epoch 6 | Train Loss: 1.3556, Train Acc: 0.3596 | Val Loss: 1.3601, Val Acc: 0.5004\n",
      "[VGG16] Epoch 7 | Train Loss: 1.3619, Train Acc: 0.4755 | Val Loss: 1.3604, Val Acc: 0.3497\n",
      "[VGG16] Epoch 8 | Train Loss: 1.3553, Train Acc: 0.4828 | Val Loss: 1.3601, Val Acc: 0.5004\n",
      "[VGG16] Epoch 9 | Train Loss: 1.3613, Train Acc: 0.3734 | Val Loss: 1.3602, Val Acc: 0.3497\n",
      "[VGG16] Epoch 10 | Train Loss: 1.3557, Train Acc: 0.3500 | Val Loss: 1.3604, Val Acc: 0.3497\n",
      "[VGG16] Epoch 11 | Train Loss: 1.3612, Train Acc: 0.3721 | Val Loss: 1.3601, Val Acc: 0.5004\n",
      "[VGG16] Epoch 12 | Train Loss: 1.3561, Train Acc: 0.4870 | Val Loss: 1.3599, Val Acc: 0.5004\n",
      "[VGG16] Epoch 13 | Train Loss: 1.3608, Train Acc: 0.4685 | Val Loss: 1.3601, Val Acc: 0.5004\n",
      "[VGG16] Epoch 14 | Train Loss: 1.3552, Train Acc: 0.4997 | Val Loss: 1.3602, Val Acc: 0.5004\n",
      "[VGG16] Epoch 15 | Train Loss: 1.3634, Train Acc: 0.4005 | Val Loss: 1.3601, Val Acc: 0.5004\n",
      "\n",
      "Training EffNetB5\n",
      "[EffNetB5] Epoch 1 | Train Loss: 1.2355, Train Acc: 0.4669 | Val Loss: 2.4234, Val Acc: 0.3989\n",
      "[EffNetB5] Epoch 2 | Train Loss: 1.0557, Train Acc: 0.5198 | Val Loss: 1.4309, Val Acc: 0.2756\n",
      "[EffNetB5] Epoch 3 | Train Loss: 0.9412, Train Acc: 0.5534 | Val Loss: 0.7650, Val Acc: 0.5215\n",
      "[EffNetB5] Epoch 4 | Train Loss: 0.7837, Train Acc: 0.6146 | Val Loss: 1.5368, Val Acc: 0.3263\n",
      "[EffNetB5] Epoch 5 | Train Loss: 0.6102, Train Acc: 0.6883 | Val Loss: 0.7123, Val Acc: 0.6714\n",
      "[EffNetB5] Epoch 6 | Train Loss: 0.4900, Train Acc: 0.7695 | Val Loss: 0.4852, Val Acc: 0.7104\n",
      "[EffNetB5] Epoch 7 | Train Loss: 0.2998, Train Acc: 0.8391 | Val Loss: 0.2775, Val Acc: 0.8439\n",
      "[EffNetB5] Epoch 8 | Train Loss: 0.2351, Train Acc: 0.8870 | Val Loss: 0.2552, Val Acc: 0.8704\n",
      "[EffNetB5] Epoch 9 | Train Loss: 0.2262, Train Acc: 0.9039 | Val Loss: 0.3404, Val Acc: 0.8532\n",
      "[EffNetB5] Epoch 10 | Train Loss: 0.1588, Train Acc: 0.9294 | Val Loss: 0.1748, Val Acc: 0.9110\n",
      "[EffNetB5] Epoch 11 | Train Loss: 0.1533, Train Acc: 0.9372 | Val Loss: 0.1649, Val Acc: 0.9180\n",
      "[EffNetB5] Epoch 12 | Train Loss: 0.0867, Train Acc: 0.9589 | Val Loss: 0.0931, Val Acc: 0.9532\n",
      "[EffNetB5] Epoch 13 | Train Loss: 0.0691, Train Acc: 0.9708 | Val Loss: 0.0914, Val Acc: 0.9547\n",
      "[EffNetB5] Epoch 14 | Train Loss: 0.0565, Train Acc: 0.9760 | Val Loss: 0.0641, Val Acc: 0.9680\n",
      "[EffNetB5] Epoch 15 | Train Loss: 0.0615, Train Acc: 0.9740 | Val Loss: 0.0655, Val Acc: 0.9696\n"
     ]
    }
   ],
   "source": [
    "# 7. Train All Models\n",
    "models = {\n",
    "    'CustomCNN': customCNN(),\n",
    "    'VGG16': get_vgg16(),\n",
    "    'EffNetB5': get_efficientnet()\n",
    "}\n",
    "class_counts = [717, 52, 2560, 1795]\n",
    "total_samples = sum(class_counts)\n",
    "num_classes = len(class_counts)\n",
    "class_weights = [total_samples / (num_classes * c) for c in class_counts]\n",
    "\n",
    "\n",
    "history = {}\n",
    "for name, model in models.items():\n",
    "    print(f\"\\nTraining {name}\")\n",
    "    history[name] = train_model(model, name, class_weights)\n"
   ]
  },
  {
   "cell_type": "markdown",
   "metadata": {},
   "source": [
    "## 17. Evaluate on Test Set\n",
    "Evaluate all trained models on the test set and report accuracy and loss."
   ]
  },
  {
   "cell_type": "code",
   "execution_count": 38,
   "metadata": {
    "execution": {
     "iopub.execute_input": "2025-06-05T12:48:20.368340Z",
     "iopub.status.busy": "2025-06-05T12:48:20.367672Z",
     "iopub.status.idle": "2025-06-05T12:48:38.027129Z",
     "shell.execute_reply": "2025-06-05T12:48:38.026512Z",
     "shell.execute_reply.started": "2025-06-05T12:48:20.368319Z"
    }
   },
   "outputs": [
    {
     "name": "stdout",
     "output_type": "stream",
     "text": [
      "CustomCNN Test Accuracy: 50.04% | Loss: 1.2751\n",
      "VGG16 Test Accuracy: 50.04% | Loss: 1.2611\n",
      "EffNetB5 Test Accuracy: 74.59% | Loss: 0.7573\n"
     ]
    }
   ],
   "source": [
    "# 9. Evaluate on Test Set\n",
    "def evaluate(model, name):\n",
    "    model.load_state_dict(torch.load(f\"{name}_best.pth\"))\n",
    "    model.to(device)\n",
    "    model.eval()\n",
    "\n",
    "    correct = 0\n",
    "    total = 0\n",
    "    \n",
    "    criterion = nn.CrossEntropyLoss()\n",
    "    loss_total = 0\n",
    "    with torch.no_grad():\n",
    "        for images, labels in test_loader:\n",
    "            images, labels = images.to(device), labels.to(device)\n",
    "            outputs = model(images)\n",
    "            loss = criterion(outputs, labels)\n",
    "            loss_total += loss.item()\n",
    "            _, predicted = torch.max(outputs.data, 1)\n",
    "            total += labels.size(0)\n",
    "            correct += (predicted == labels).sum().item()\n",
    "\n",
    "    acc = 100 * correct / total\n",
    "    loss_avg = loss_total / len(test_loader)\n",
    "    print(f\"{name} Test Accuracy: {acc:.2f}% | Loss: {loss_avg:.4f}\")\n",
    "    return loss_avg, acc\n",
    "\n",
    "test_results = {}\n",
    "for name, model in models.items():\n",
    "    test_results[name] = evaluate(model, name)"
   ]
  },
  {
   "cell_type": "markdown",
   "metadata": {},
   "source": [
    "# Thank You!\n",
    "Connect with me on LinkedIn for more deep learning projects and insights."
   ]
  },
  {
   "cell_type": "markdown",
   "metadata": {},
   "source": [
    "## Environment & Requirements\n",
    "- Python 3.8+\n",
    "- PyTorch >= 1.9\n",
    "- torchvision, efficientnet_pytorch, prettytable, scikit-learn, matplotlib, PIL\n",
    "\n",
    "Dataset: [Alzheimer's Dataset](https://www.kaggle.com/datasets/yasserhessein/dataset-alzheimer?resource=download)"
   ]
  },
  {
   "cell_type": "markdown",
   "metadata": {},
   "source": [
    "## Results Summary\n",
    "Below are the final test accuracies and losses for each model:\n",
    "\n",
    "- **CustomCNN:** 50.04% accuracy, 1.2751 loss\n",
    "- **VGG16:** 50.04% accuracy, 1.2611 loss\n",
    "- **EffNetB5:** 74.59% accuracy, 0.7573 loss\n"
   ]
  },
  {
   "cell_type": "markdown",
   "metadata": {},
   "source": [
    "## License & Attribution\n",
    "This notebook is released under the MIT License.\n",
    "Dataset credits: [Kaggle - Alzheimer's Dataset](https://www.kaggle.com/datasets/yasserhessein/dataset-alzheimer?resource=download)"
   ]
  },
  {
   "cell_type": "code",
   "execution_count": null,
   "id": "ff35b1d1",
   "metadata": {},
   "outputs": [],
   "source": [
    "\n",
    "# Final Accuracy & Confusion Matrix\n",
    "from sklearn.metrics import confusion_matrix, accuracy_score\n",
    "import seaborn as sns\n",
    "import matplotlib.pyplot as plt\n",
    "\n",
    "y_pred_classes = np.argmax(model.predict(X_test), axis=1)\n",
    "y_true = np.argmax(y_test, axis=1)\n",
    "\n",
    "acc = accuracy_score(y_true, y_pred_classes)\n",
    "cm = confusion_matrix(y_true, y_pred_classes)\n",
    "\n",
    "print(f\"Final Accuracy: {acc:.4f}\")\n",
    "\n",
    "plt.figure(figsize=(6,4))\n",
    "sns.heatmap(cm, annot=True, fmt='d', cmap='Blues')\n",
    "plt.xlabel('Predicted')\n",
    "plt.ylabel('Actual')\n",
    "plt.title('Confusion Matrix')\n",
    "plt.show()\n"
   ]
  },
  {
   "cell_type": "markdown",
   "id": "f8c84f38",
   "metadata": {},
   "source": [
    "## Save trained model\n",
    "The cell below saves the trained Keras model for reuse."
   ]
  },
  {
   "cell_type": "code",
   "execution_count": null,
   "id": "f7c16e3d",
   "metadata": {},
   "outputs": [],
   "source": [
    "\n",
    "# Save the trained model for reuse\n",
    "import os\n",
    "OUT_DIR = os.path.join(os.getcwd(), 'saved_model')\n",
    "os.makedirs(OUT_DIR, exist_ok=True)\n",
    "try:\n",
    "    model.save(os.path.join(OUT_DIR, 'alz_classifier.h5'))\n",
    "    print('Model saved to', os.path.join(OUT_DIR, 'alz_classifier.h5'))\n",
    "except Exception as e:\n",
    "    print('Could not save model. Ensure `model` exists and is a Keras model. Error:', e)\n"
   ]
  },
  {
   "cell_type": "markdown",
   "id": "e22f2d35",
   "metadata": {},
   "source": [
    "- Final accuracy and confusion matrix are shown above.  \n",
    "- Augmentations are restricted to medically-safe operations (no flips, no heavy rotations, no warping).  "
   ]
  }
 ],
 "metadata": {
  "kaggle": {
   "accelerator": "gpu",
   "dataSources": [
    {
     "datasetId": 1127745,
     "sourceId": 1892744,
     "sourceType": "datasetVersion"
    }
   ],
   "dockerImageVersionId": 31041,
   "isGpuEnabled": true,
   "isInternetEnabled": true,
   "language": "python",
   "sourceType": "notebook"
  },
  "kernelspec": {
   "display_name": "base",
   "language": "python",
   "name": "python3"
  },
  "language_info": {
   "codemirror_mode": {
    "name": "ipython",
    "version": 3
   },
   "file_extension": ".py",
   "mimetype": "text/x-python",
   "name": "python",
   "nbconvert_exporter": "python",
   "pygments_lexer": "ipython3",
   "version": "3.12.7"
  }
 },
 "nbformat": 4,
 "nbformat_minor": 4
}
